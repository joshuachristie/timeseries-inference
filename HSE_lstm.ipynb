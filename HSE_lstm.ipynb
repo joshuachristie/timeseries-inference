{
 "cells": [
  {
   "cell_type": "code",
   "execution_count": 1,
   "id": "6d71b22f",
   "metadata": {},
   "outputs": [
    {
     "name": "stdout",
     "output_type": "stream",
     "text": [
      "2.5.0\n"
     ]
    }
   ],
   "source": [
    "import tensorflow as tf\n",
    "import os\n",
    "#os.environ[\"TF_GPU_THREAD\"]=\"gpu_private\"\n",
    "#physical_devices = tf.config.list_physical_devices('GPU') \n",
    "#tf.config.experimental.set_memory_growth(physical_devices[0], True)\n",
    "from datetime import datetime\n",
    "%load_ext tensorboard\n",
    "\n",
    "print(tf.version.VERSION)\n"
   ]
  },
  {
   "cell_type": "code",
   "execution_count": 2,
   "id": "c5ee4fd1",
   "metadata": {
    "tags": []
   },
   "outputs": [],
   "source": [
    "train_filepath_dataset = tf.data.TFRecordDataset.list_files(\"data/train/*.tfrecord\", shuffle=True)\n",
    "train_num_files = train_filepath_dataset.cardinality()\n",
    "#num_files=30\n",
    "train_dataset = train_filepath_dataset.interleave(\n",
    "    lambda x: tf.data.TFRecordDataset(x),\n",
    "    cycle_length=train_num_files,\n",
    "    block_length=1,\n",
    "    num_parallel_calls=tf.data.experimental.AUTOTUNE,\n",
    "    deterministic=False)\n"
   ]
  },
  {
   "cell_type": "code",
   "execution_count": 3,
   "metadata": {},
   "outputs": [],
   "source": [
    "validate_filepath_dataset = tf.data.TFRecordDataset.list_files(\"data/valid/*.tfrecord\", shuffle=True)\n",
    "validate_num_files = validate_filepath_dataset.cardinality()\n",
    "#num_files=30\n",
    "validate_dataset = validate_filepath_dataset.interleave(\n",
    "    lambda x: tf.data.TFRecordDataset(x),\n",
    "    cycle_length=validate_num_files,\n",
    "    block_length=1,\n",
    "    num_parallel_calls=tf.data.experimental.AUTOTUNE,\n",
    "    deterministic=False)"
   ]
  },
  {
   "cell_type": "code",
   "execution_count": 4,
   "id": "742cb11b",
   "metadata": {},
   "outputs": [],
   "source": [
    "context_features = {\"population_size\" : tf.io.FixedLenFeature((), tf.int64),\n",
    "                   \"selection_coefficient\" : tf.io.FixedLenFeature((), tf.float32)}\n",
    "sequence_features = {\"raw_trait_frequencies\" : tf.io.RaggedFeature(tf.float32)}\n",
    "\n",
    "pop_size_min = 20\n",
    "pop_size_max = 500\n",
    "sc_min = 0.\n",
    "sc_max = 0.5\n",
    "min_survival=12 #number of gens survived is min_survival - 2 (because of starting and final freq)\n",
    "max_time_steps = 60 # to avoid OOM issues\n",
    "num_trait_data = 2000\n",
    "\n",
    "def preprocess_and_split_into_tuples(tfrecord):\n",
    "    # parse sequence example and normalise\n",
    "    example = tf.io.parse_sequence_example(tfrecord, context_features=context_features, sequence_features=sequence_features)\n",
    "    trait_frequencies = example[1][\"raw_trait_frequencies\"]\n",
    "    pop_size_norm = (tf.cast(example[0][\"population_size\"], dtype=tf.float32) - pop_size_min) / (pop_size_max - pop_size_min)\n",
    "    sc_norm = (tf.cast(example[0][\"selection_coefficient\"], dtype=tf.float32) - sc_min) / (sc_max - sc_min)\n",
    "    # filter dataset to only include num_trait_data trials in which the trait survives at least min_survival\n",
    "    trait_frequencies = tf.gather(trait_frequencies, tf.where(trait_frequencies.row_lengths() > min_survival), axis=0)\n",
    "    \n",
    "    \n",
    "    # I CAN PROBABLY IMPLEMENT A RANDOM SAMPLING HERE SO I GET DIFFERENT INDICES OF TRAIT_FREQUENCIES RETURNED?\n",
    "    \n",
    "    trait_frequencies = tf.gather(trait_frequencies, tf.random.uniform(shape=[num_trait_data], minval=0,\n",
    "                                                                      maxval=trait_frequencies.nrows(),\n",
    "                                                                      dtype=tf.int32))\n",
    "    \n",
    "\n",
    "    trait_frequencies = trait_frequencies[:, :, 0:max_time_steps]\n",
    "\n",
    "    #trait_frequencies = trait_frequencies[0:num_trait_data, :, 0:max_time_steps]\n",
    "    \n",
    "    # cast labels into a list of tensors matching the features\n",
    "    trait_frequencies = tf.squeeze(trait_frequencies, axis=1)\n",
    "    label_tensors = tf.reshape(tf.stack((tf.repeat(pop_size_norm, num_trait_data), tf.repeat(sc_norm, num_trait_data)), axis=1), \n",
    "                               shape=(num_trait_data,2))\n",
    "    # add final dimension (number features)\n",
    "    label_tensors = tf.expand_dims(label_tensors, axis=2)\n",
    "    trait_frequencies = tf.expand_dims(trait_frequencies, axis=2)\n",
    "\n",
    "    return tf.data.Dataset.zip((tf.data.Dataset.from_tensor_slices(trait_frequencies), tf.data.Dataset.from_tensor_slices(label_tensors)))\n"
   ]
  },
  {
   "cell_type": "code",
   "execution_count": 5,
   "id": "ac6cc8ad",
   "metadata": {},
   "outputs": [
    {
     "name": "stdout",
     "output_type": "stream",
     "text": [
      "WARNING:tensorflow:From /usr/local/lib/python3.6/dist-packages/tensorflow/python/ops/array_ops.py:5049: calling gather (from tensorflow.python.ops.array_ops) with validate_indices is deprecated and will be removed in a future version.\n",
      "Instructions for updating:\n",
      "The `validate_indices` argument has no effect. Indices are always validated on CPU and never validated on GPU.\n"
     ]
    }
   ],
   "source": [
    "# test cycle length and block length for performance\n",
    "train_dataset = train_dataset.interleave(\n",
    "    preprocess_and_split_into_tuples,\n",
    "    cycle_length=train_num_files,\n",
    "    block_length=1,\n",
    "    num_parallel_calls=tf.data.experimental.AUTOTUNE,\n",
    "    deterministic=False)\n"
   ]
  },
  {
   "cell_type": "code",
   "execution_count": 6,
   "metadata": {},
   "outputs": [],
   "source": [
    "# test cycle length and block length for performance\n",
    "validate_dataset = validate_dataset.interleave(\n",
    "    preprocess_and_split_into_tuples,\n",
    "    cycle_length=validate_num_files,\n",
    "    block_length=1,\n",
    "    num_parallel_calls=tf.data.experimental.AUTOTUNE,\n",
    "    deterministic=False)\n"
   ]
  },
  {
   "cell_type": "code",
   "execution_count": 7,
   "id": "a11f8cc6",
   "metadata": {},
   "outputs": [],
   "source": [
    "batch_size = 512\n",
    "train_dataset = train_dataset.batch(batch_size).cache().prefetch(tf.data.experimental.AUTOTUNE)\n",
    "validate_dataset = validate_dataset.batch(batch_size).cache().prefetch(tf.data.experimental.AUTOTUNE)\n"
   ]
  },
  {
   "cell_type": "code",
   "execution_count": null,
   "metadata": {},
   "outputs": [],
   "source": []
  },
  {
   "cell_type": "code",
   "execution_count": 8,
   "id": "31252253",
   "metadata": {},
   "outputs": [
    {
     "name": "stdout",
     "output_type": "stream",
     "text": [
      "Model: \"model\"\n",
      "__________________________________________________________________________________________________\n",
      "Layer (type)                    Output Shape         Param #     Connected to                     \n",
      "==================================================================================================\n",
      "input_1 (InputLayer)            [(None, None, 1)]    0                                            \n",
      "__________________________________________________________________________________________________\n",
      "input.row_lengths (InstanceMeth (None,)              0           input_1[0][0]                    \n",
      "__________________________________________________________________________________________________\n",
      "input.to_tensor (InstanceMethod (None, None, 1)      0           input_1[0][0]                    \n",
      "__________________________________________________________________________________________________\n",
      "tf.sequence_mask (TFOpLambda)   (None, None)         0           input.row_lengths[0][0]          \n",
      "__________________________________________________________________________________________________\n",
      "lstm (LSTM)                     (None, None, 50)     10400       input.to_tensor[0][0]            \n",
      "                                                                 tf.sequence_mask[0][0]           \n",
      "__________________________________________________________________________________________________\n",
      "lstm_1 (LSTM)                   (None, None, 50)     20200       lstm[0][0]                       \n",
      "__________________________________________________________________________________________________\n",
      "lstm_2 (LSTM)                   (None, 100)          60400       lstm_1[0][0]                     \n",
      "__________________________________________________________________________________________________\n",
      "dropout (Dropout)               (None, 100)          0           lstm_2[0][0]                     \n",
      "__________________________________________________________________________________________________\n",
      "dense (Dense)                   (None, 100)          10100       dropout[0][0]                    \n",
      "__________________________________________________________________________________________________\n",
      "dense_1 (Dense)                 (None, 2)            202         dense[0][0]                      \n",
      "==================================================================================================\n",
      "Total params: 101,302\n",
      "Trainable params: 101,302\n",
      "Non-trainable params: 0\n",
      "__________________________________________________________________________________________________\n"
     ]
    }
   ],
   "source": [
    "#model = tf.keras.models.Sequential()\n",
    "inputs = tf.keras.layers.Input(shape=(None, 1), ragged=True)\n",
    "rnn = tf.keras.layers.LSTM(50, return_sequences=True)\n",
    "#rnn = tf.keras.layers.Bidirectional(tf.keras.layers.LSTM(50, return_sequences=True))\n",
    "\n",
    "outputs= rnn(inputs.to_tensor(), mask=tf.sequence_mask(inputs.row_lengths()))\n",
    "\n",
    "outputs = tf.keras.layers.LSTM(50, return_sequences=True)(outputs)\n",
    "outputs = tf.keras.layers.LSTM(100)(outputs)\n",
    "outputs = tf.keras.layers.Dropout(0.5)(outputs)\n",
    "outputs = tf.keras.layers.Dense(100, activation='elu')(outputs)\n",
    "outputs = tf.keras.layers.Dense(2, activation='linear')(outputs)\n",
    "\n",
    "\n",
    "\n",
    "#mask_layer = mask_layer(inputs.to_tensor(), mask=tf.sequence_mask(inputs.row_lengths()))\n",
    "#outputs = tf.keras.layers.Dense(2, activation='linear')(mask_layer)\n",
    "\n",
    "model = tf.keras.Model(inputs, outputs)\n",
    "model.summary()"
   ]
  },
  {
   "cell_type": "code",
   "execution_count": null,
   "metadata": {},
   "outputs": [],
   "source": [
    "model = tf.keras.models.Sequential()\n",
    "model.add(tf.keras.layers.InputLayer(input_shape=(None, 1), ragged=True))\n",
    "model.add(tf.keras.layers.Bidirectional(tf.keras.layers.LSTM(50, activation='tanh', return_sequences=True)))\n",
    "model.add(tf.keras.layers.Bidirectional(tf.keras.layers.LSTM(50, activation='tanh')))\n",
    "model.add(tf.keras.layers.Dense(100, activation='relu', kernel_initializer=tf.keras.initializers.HeNormal()))\n",
    "model.add(tf.keras.layers.Dense(2, activation='linear'))\n",
    "model.summary()"
   ]
  },
  {
   "cell_type": "code",
   "execution_count": 9,
   "id": "aa7a6ccd",
   "metadata": {
    "scrolled": true
   },
   "outputs": [],
   "source": [
    "def scheduler(epoch, lr):\n",
    "    if epoch < 3:\n",
    "        return lr\n",
    "    else:\n",
    "        return lr * tf.math.exp(-0.02)\n",
    "\n",
    "def abs_dist(y_true, y_pred):\n",
    "    abs_difference = tf.math.abs(y_true - y_pred)\n",
    "    return tf.reduce_mean(abs_difference, axis=-1)\n",
    "\n",
    "optimizer = tf.keras.optimizers.Adam(0.002)\n",
    "model.compile(loss=\"mse\", optimizer=optimizer, metrics=[abs_dist, tf.keras.metrics.RootMeanSquaredError()])\n",
    "callback = tf.keras.callbacks.LearningRateScheduler(scheduler)\n",
    "logs = \"logs/\" + datetime.now().strftime(\"%Y%m%d-%H%M%S\")\n",
    "\n",
    "tensorboard_callback = tf.keras.callbacks.TensorBoard(log_dir = logs,\n",
    "                                                 histogram_freq = 1)\n",
    "\n",
    "checkpoint_filepath = './checkpoint_{epoch:02d}'\n",
    "\n",
    "model_checkpoint_callback = tf.keras.callbacks.ModelCheckpoint(\n",
    "    filepath=checkpoint_filepath,\n",
    "    save_weights_only=True,\n",
    "    monitor='val_loss',\n",
    "    mode='min',\n",
    "    save_best_only=False,\n",
    "    save_freq='epoch')"
   ]
  },
  {
   "cell_type": "code",
   "execution_count": 10,
   "id": "d0788a3c",
   "metadata": {},
   "outputs": [
    {
     "name": "stdout",
     "output_type": "stream",
     "text": [
      "Epoch 1/50\n",
      "762/762 [==============================] - 59s 61ms/step - loss: 0.0351 - abs_dist: 0.1429 - root_mean_squared_error: 0.1873 - val_loss: 0.0225 - val_abs_dist: 0.1161 - val_root_mean_squared_error: 0.1499\n",
      "Epoch 2/50\n",
      "762/762 [==============================] - 42s 55ms/step - loss: 0.0199 - abs_dist: 0.1077 - root_mean_squared_error: 0.1411 - val_loss: 0.0146 - val_abs_dist: 0.0938 - val_root_mean_squared_error: 0.1210\n",
      "Epoch 3/50\n",
      "762/762 [==============================] - 42s 55ms/step - loss: 0.0159 - abs_dist: 0.0959 - root_mean_squared_error: 0.1259 - val_loss: 0.0148 - val_abs_dist: 0.0944 - val_root_mean_squared_error: 0.1218\n",
      "Epoch 4/50\n",
      "762/762 [==============================] - 43s 56ms/step - loss: 0.0125 - abs_dist: 0.0846 - root_mean_squared_error: 0.1117 - val_loss: 0.0089 - val_abs_dist: 0.0673 - val_root_mean_squared_error: 0.0943\n",
      "Epoch 5/50\n",
      "762/762 [==============================] - 42s 55ms/step - loss: 0.0097 - abs_dist: 0.0733 - root_mean_squared_error: 0.0987 - val_loss: 0.0085 - val_abs_dist: 0.0664 - val_root_mean_squared_error: 0.0922\n",
      "Epoch 6/50\n",
      "762/762 [==============================] - 43s 56ms/step - loss: 0.0082 - abs_dist: 0.0656 - root_mean_squared_error: 0.0907 - val_loss: 0.0058 - val_abs_dist: 0.0498 - val_root_mean_squared_error: 0.0761\n",
      "Epoch 7/50\n",
      "762/762 [==============================] - 43s 57ms/step - loss: 0.0075 - abs_dist: 0.0611 - root_mean_squared_error: 0.0866 - val_loss: 0.0058 - val_abs_dist: 0.0492 - val_root_mean_squared_error: 0.0759\n",
      "Epoch 8/50\n",
      "762/762 [==============================] - 43s 57ms/step - loss: 0.0071 - abs_dist: 0.0591 - root_mean_squared_error: 0.0845 - val_loss: 0.0061 - val_abs_dist: 0.0529 - val_root_mean_squared_error: 0.0781\n",
      "Epoch 9/50\n",
      "762/762 [==============================] - 42s 56ms/step - loss: 0.0067 - abs_dist: 0.0564 - root_mean_squared_error: 0.0820 - val_loss: 0.0064 - val_abs_dist: 0.0562 - val_root_mean_squared_error: 0.0800\n",
      "Epoch 10/50\n",
      "762/762 [==============================] - 43s 56ms/step - loss: 0.0066 - abs_dist: 0.0547 - root_mean_squared_error: 0.0813 - val_loss: 0.0056 - val_abs_dist: 0.0475 - val_root_mean_squared_error: 0.0749\n",
      "Epoch 11/50\n",
      "762/762 [==============================] - 43s 56ms/step - loss: 0.0064 - abs_dist: 0.0537 - root_mean_squared_error: 0.0799 - val_loss: 0.0064 - val_abs_dist: 0.0581 - val_root_mean_squared_error: 0.0801\n",
      "Epoch 12/50\n",
      "762/762 [==============================] - 42s 56ms/step - loss: 0.0061 - abs_dist: 0.0517 - root_mean_squared_error: 0.0778 - val_loss: 0.0056 - val_abs_dist: 0.0483 - val_root_mean_squared_error: 0.0748\n",
      "Epoch 13/50\n",
      "762/762 [==============================] - 43s 56ms/step - loss: 0.0059 - abs_dist: 0.0510 - root_mean_squared_error: 0.0770 - val_loss: 0.0055 - val_abs_dist: 0.0429 - val_root_mean_squared_error: 0.0742\n",
      "Epoch 14/50\n",
      "762/762 [==============================] - 43s 56ms/step - loss: 0.0058 - abs_dist: 0.0499 - root_mean_squared_error: 0.0760 - val_loss: 0.0058 - val_abs_dist: 0.0502 - val_root_mean_squared_error: 0.0761\n",
      "Epoch 15/50\n",
      "762/762 [==============================] - 42s 55ms/step - loss: 0.0057 - abs_dist: 0.0492 - root_mean_squared_error: 0.0753 - val_loss: 0.0066 - val_abs_dist: 0.0580 - val_root_mean_squared_error: 0.0815\n",
      "Epoch 16/50\n",
      "762/762 [==============================] - 42s 56ms/step - loss: 0.0056 - abs_dist: 0.0490 - root_mean_squared_error: 0.0747 - val_loss: 0.0059 - val_abs_dist: 0.0508 - val_root_mean_squared_error: 0.0769\n",
      "Epoch 17/50\n",
      "762/762 [==============================] - 42s 56ms/step - loss: 0.0054 - abs_dist: 0.0479 - root_mean_squared_error: 0.0735 - val_loss: 0.0060 - val_abs_dist: 0.0472 - val_root_mean_squared_error: 0.0776\n",
      "Epoch 18/50\n",
      "762/762 [==============================] - 42s 56ms/step - loss: 0.0054 - abs_dist: 0.0476 - root_mean_squared_error: 0.0732 - val_loss: 0.0066 - val_abs_dist: 0.0570 - val_root_mean_squared_error: 0.0811\n",
      "Epoch 19/50\n",
      "762/762 [==============================] - 42s 55ms/step - loss: 0.0055 - abs_dist: 0.0475 - root_mean_squared_error: 0.0740 - val_loss: 0.0059 - val_abs_dist: 0.0458 - val_root_mean_squared_error: 0.0766\n",
      "Epoch 20/50\n",
      "762/762 [==============================] - 42s 56ms/step - loss: 0.0054 - abs_dist: 0.0467 - root_mean_squared_error: 0.0733 - val_loss: 0.0059 - val_abs_dist: 0.0470 - val_root_mean_squared_error: 0.0769\n",
      "Epoch 21/50\n",
      "762/762 [==============================] - 42s 56ms/step - loss: 0.0051 - abs_dist: 0.0459 - root_mean_squared_error: 0.0717 - val_loss: 0.0059 - val_abs_dist: 0.0466 - val_root_mean_squared_error: 0.0767\n",
      "Epoch 22/50\n",
      "762/762 [==============================] - 43s 56ms/step - loss: 0.0050 - abs_dist: 0.0449 - root_mean_squared_error: 0.0704 - val_loss: 0.0056 - val_abs_dist: 0.0476 - val_root_mean_squared_error: 0.0747\n",
      "Epoch 23/50\n",
      "762/762 [==============================] - 43s 57ms/step - loss: 0.0049 - abs_dist: 0.0445 - root_mean_squared_error: 0.0698 - val_loss: 0.0054 - val_abs_dist: 0.0434 - val_root_mean_squared_error: 0.0736\n",
      "Epoch 24/50\n",
      "762/762 [==============================] - 43s 57ms/step - loss: 0.0050 - abs_dist: 0.0449 - root_mean_squared_error: 0.0707 - val_loss: 0.0062 - val_abs_dist: 0.0517 - val_root_mean_squared_error: 0.0788\n",
      "Epoch 25/50\n",
      "762/762 [==============================] - 42s 56ms/step - loss: 0.0050 - abs_dist: 0.0449 - root_mean_squared_error: 0.0705 - val_loss: 0.0068 - val_abs_dist: 0.0515 - val_root_mean_squared_error: 0.0826\n",
      "Epoch 26/50\n",
      "762/762 [==============================] - 43s 56ms/step - loss: 0.0047 - abs_dist: 0.0436 - root_mean_squared_error: 0.0688 - val_loss: 0.0060 - val_abs_dist: 0.0452 - val_root_mean_squared_error: 0.0776\n",
      "Epoch 27/50\n",
      "762/762 [==============================] - 43s 57ms/step - loss: 0.0046 - abs_dist: 0.0425 - root_mean_squared_error: 0.0675 - val_loss: 0.0069 - val_abs_dist: 0.0571 - val_root_mean_squared_error: 0.0830\n",
      "Epoch 28/50\n",
      "762/762 [==============================] - 43s 56ms/step - loss: 0.0045 - abs_dist: 0.0424 - root_mean_squared_error: 0.0670 - val_loss: 0.0066 - val_abs_dist: 0.0478 - val_root_mean_squared_error: 0.0815\n",
      "Epoch 29/50\n",
      "762/762 [==============================] - 43s 56ms/step - loss: 0.0044 - abs_dist: 0.0416 - root_mean_squared_error: 0.0662 - val_loss: 0.0068 - val_abs_dist: 0.0555 - val_root_mean_squared_error: 0.0825\n",
      "Epoch 30/50\n",
      "762/762 [==============================] - 43s 56ms/step - loss: 0.0043 - abs_dist: 0.0408 - root_mean_squared_error: 0.0654 - val_loss: 0.0072 - val_abs_dist: 0.0512 - val_root_mean_squared_error: 0.0846\n",
      "Epoch 31/50\n",
      "762/762 [==============================] - 43s 56ms/step - loss: 0.0045 - abs_dist: 0.0418 - root_mean_squared_error: 0.0672 - val_loss: 0.0070 - val_abs_dist: 0.0498 - val_root_mean_squared_error: 0.0834\n",
      "Epoch 32/50\n",
      "762/762 [==============================] - 43s 56ms/step - loss: 0.0044 - abs_dist: 0.0411 - root_mean_squared_error: 0.0660 - val_loss: 0.0077 - val_abs_dist: 0.0569 - val_root_mean_squared_error: 0.0877\n",
      "Epoch 33/50\n",
      " 40/762 [>.............................] - ETA: 34s - loss: 0.0044 - abs_dist: 0.0407 - root_mean_squared_error: 0.0660"
     ]
    },
    {
     "ename": "KeyboardInterrupt",
     "evalue": "",
     "output_type": "error",
     "traceback": [
      "\u001b[0;31m---------------------------------------------------------------------------\u001b[0m",
      "\u001b[0;31mKeyboardInterrupt\u001b[0m                         Traceback (most recent call last)",
      "\u001b[0;32m<ipython-input-10-9a11835540fa>\u001b[0m in \u001b[0;36m<module>\u001b[0;34m\u001b[0m\n\u001b[1;32m      1\u001b[0m history = model.fit(train_dataset, epochs=50, validation_data=validate_dataset, callbacks=[callback, tensorboard_callback,\n\u001b[0;32m----> 2\u001b[0;31m                                                                                           model_checkpoint_callback])\n\u001b[0m",
      "\u001b[0;32m/usr/local/lib/python3.6/dist-packages/tensorflow/python/keras/engine/training.py\u001b[0m in \u001b[0;36mfit\u001b[0;34m(self, x, y, batch_size, epochs, verbose, callbacks, validation_split, validation_data, shuffle, class_weight, sample_weight, initial_epoch, steps_per_epoch, validation_steps, validation_batch_size, validation_freq, max_queue_size, workers, use_multiprocessing)\u001b[0m\n\u001b[1;32m   1181\u001b[0m                 _r=1):\n\u001b[1;32m   1182\u001b[0m               \u001b[0mcallbacks\u001b[0m\u001b[0;34m.\u001b[0m\u001b[0mon_train_batch_begin\u001b[0m\u001b[0;34m(\u001b[0m\u001b[0mstep\u001b[0m\u001b[0;34m)\u001b[0m\u001b[0;34m\u001b[0m\u001b[0;34m\u001b[0m\u001b[0m\n\u001b[0;32m-> 1183\u001b[0;31m               \u001b[0mtmp_logs\u001b[0m \u001b[0;34m=\u001b[0m \u001b[0mself\u001b[0m\u001b[0;34m.\u001b[0m\u001b[0mtrain_function\u001b[0m\u001b[0;34m(\u001b[0m\u001b[0miterator\u001b[0m\u001b[0;34m)\u001b[0m\u001b[0;34m\u001b[0m\u001b[0;34m\u001b[0m\u001b[0m\n\u001b[0m\u001b[1;32m   1184\u001b[0m               \u001b[0;32mif\u001b[0m \u001b[0mdata_handler\u001b[0m\u001b[0;34m.\u001b[0m\u001b[0mshould_sync\u001b[0m\u001b[0;34m:\u001b[0m\u001b[0;34m\u001b[0m\u001b[0;34m\u001b[0m\u001b[0m\n\u001b[1;32m   1185\u001b[0m                 \u001b[0mcontext\u001b[0m\u001b[0;34m.\u001b[0m\u001b[0masync_wait\u001b[0m\u001b[0;34m(\u001b[0m\u001b[0;34m)\u001b[0m\u001b[0;34m\u001b[0m\u001b[0;34m\u001b[0m\u001b[0m\n",
      "\u001b[0;32m/usr/local/lib/python3.6/dist-packages/tensorflow/python/eager/def_function.py\u001b[0m in \u001b[0;36m__call__\u001b[0;34m(self, *args, **kwds)\u001b[0m\n\u001b[1;32m    887\u001b[0m \u001b[0;34m\u001b[0m\u001b[0m\n\u001b[1;32m    888\u001b[0m       \u001b[0;32mwith\u001b[0m \u001b[0mOptionalXlaContext\u001b[0m\u001b[0;34m(\u001b[0m\u001b[0mself\u001b[0m\u001b[0;34m.\u001b[0m\u001b[0m_jit_compile\u001b[0m\u001b[0;34m)\u001b[0m\u001b[0;34m:\u001b[0m\u001b[0;34m\u001b[0m\u001b[0;34m\u001b[0m\u001b[0m\n\u001b[0;32m--> 889\u001b[0;31m         \u001b[0mresult\u001b[0m \u001b[0;34m=\u001b[0m \u001b[0mself\u001b[0m\u001b[0;34m.\u001b[0m\u001b[0m_call\u001b[0m\u001b[0;34m(\u001b[0m\u001b[0;34m*\u001b[0m\u001b[0margs\u001b[0m\u001b[0;34m,\u001b[0m \u001b[0;34m**\u001b[0m\u001b[0mkwds\u001b[0m\u001b[0;34m)\u001b[0m\u001b[0;34m\u001b[0m\u001b[0;34m\u001b[0m\u001b[0m\n\u001b[0m\u001b[1;32m    890\u001b[0m \u001b[0;34m\u001b[0m\u001b[0m\n\u001b[1;32m    891\u001b[0m       \u001b[0mnew_tracing_count\u001b[0m \u001b[0;34m=\u001b[0m \u001b[0mself\u001b[0m\u001b[0;34m.\u001b[0m\u001b[0mexperimental_get_tracing_count\u001b[0m\u001b[0;34m(\u001b[0m\u001b[0;34m)\u001b[0m\u001b[0;34m\u001b[0m\u001b[0;34m\u001b[0m\u001b[0m\n",
      "\u001b[0;32m/usr/local/lib/python3.6/dist-packages/tensorflow/python/eager/def_function.py\u001b[0m in \u001b[0;36m_call\u001b[0;34m(self, *args, **kwds)\u001b[0m\n\u001b[1;32m    915\u001b[0m       \u001b[0;31m# In this case we have created variables on the first call, so we run the\u001b[0m\u001b[0;34m\u001b[0m\u001b[0;34m\u001b[0m\u001b[0;34m\u001b[0m\u001b[0m\n\u001b[1;32m    916\u001b[0m       \u001b[0;31m# defunned version which is guaranteed to never create variables.\u001b[0m\u001b[0;34m\u001b[0m\u001b[0;34m\u001b[0m\u001b[0;34m\u001b[0m\u001b[0m\n\u001b[0;32m--> 917\u001b[0;31m       \u001b[0;32mreturn\u001b[0m \u001b[0mself\u001b[0m\u001b[0;34m.\u001b[0m\u001b[0m_stateless_fn\u001b[0m\u001b[0;34m(\u001b[0m\u001b[0;34m*\u001b[0m\u001b[0margs\u001b[0m\u001b[0;34m,\u001b[0m \u001b[0;34m**\u001b[0m\u001b[0mkwds\u001b[0m\u001b[0;34m)\u001b[0m  \u001b[0;31m# pylint: disable=not-callable\u001b[0m\u001b[0;34m\u001b[0m\u001b[0;34m\u001b[0m\u001b[0m\n\u001b[0m\u001b[1;32m    918\u001b[0m     \u001b[0;32melif\u001b[0m \u001b[0mself\u001b[0m\u001b[0;34m.\u001b[0m\u001b[0m_stateful_fn\u001b[0m \u001b[0;32mis\u001b[0m \u001b[0;32mnot\u001b[0m \u001b[0;32mNone\u001b[0m\u001b[0;34m:\u001b[0m\u001b[0;34m\u001b[0m\u001b[0;34m\u001b[0m\u001b[0m\n\u001b[1;32m    919\u001b[0m       \u001b[0;31m# Release the lock early so that multiple threads can perform the call\u001b[0m\u001b[0;34m\u001b[0m\u001b[0;34m\u001b[0m\u001b[0;34m\u001b[0m\u001b[0m\n",
      "\u001b[0;32m/usr/local/lib/python3.6/dist-packages/tensorflow/python/eager/function.py\u001b[0m in \u001b[0;36m__call__\u001b[0;34m(self, *args, **kwargs)\u001b[0m\n\u001b[1;32m   3022\u001b[0m        filtered_flat_args) = self._maybe_define_function(args, kwargs)\n\u001b[1;32m   3023\u001b[0m     return graph_function._call_flat(\n\u001b[0;32m-> 3024\u001b[0;31m         filtered_flat_args, captured_inputs=graph_function.captured_inputs)  # pylint: disable=protected-access\n\u001b[0m\u001b[1;32m   3025\u001b[0m \u001b[0;34m\u001b[0m\u001b[0m\n\u001b[1;32m   3026\u001b[0m   \u001b[0;34m@\u001b[0m\u001b[0mproperty\u001b[0m\u001b[0;34m\u001b[0m\u001b[0;34m\u001b[0m\u001b[0m\n",
      "\u001b[0;32m/usr/local/lib/python3.6/dist-packages/tensorflow/python/eager/function.py\u001b[0m in \u001b[0;36m_call_flat\u001b[0;34m(self, args, captured_inputs, cancellation_manager)\u001b[0m\n\u001b[1;32m   1959\u001b[0m       \u001b[0;31m# No tape is watching; skip to running the function.\u001b[0m\u001b[0;34m\u001b[0m\u001b[0;34m\u001b[0m\u001b[0;34m\u001b[0m\u001b[0m\n\u001b[1;32m   1960\u001b[0m       return self._build_call_outputs(self._inference_function.call(\n\u001b[0;32m-> 1961\u001b[0;31m           ctx, args, cancellation_manager=cancellation_manager))\n\u001b[0m\u001b[1;32m   1962\u001b[0m     forward_backward = self._select_forward_and_backward_functions(\n\u001b[1;32m   1963\u001b[0m         \u001b[0margs\u001b[0m\u001b[0;34m,\u001b[0m\u001b[0;34m\u001b[0m\u001b[0;34m\u001b[0m\u001b[0m\n",
      "\u001b[0;32m/usr/local/lib/python3.6/dist-packages/tensorflow/python/eager/function.py\u001b[0m in \u001b[0;36mcall\u001b[0;34m(self, ctx, args, cancellation_manager)\u001b[0m\n\u001b[1;32m    594\u001b[0m               \u001b[0minputs\u001b[0m\u001b[0;34m=\u001b[0m\u001b[0margs\u001b[0m\u001b[0;34m,\u001b[0m\u001b[0;34m\u001b[0m\u001b[0;34m\u001b[0m\u001b[0m\n\u001b[1;32m    595\u001b[0m               \u001b[0mattrs\u001b[0m\u001b[0;34m=\u001b[0m\u001b[0mattrs\u001b[0m\u001b[0;34m,\u001b[0m\u001b[0;34m\u001b[0m\u001b[0;34m\u001b[0m\u001b[0m\n\u001b[0;32m--> 596\u001b[0;31m               ctx=ctx)\n\u001b[0m\u001b[1;32m    597\u001b[0m         \u001b[0;32melse\u001b[0m\u001b[0;34m:\u001b[0m\u001b[0;34m\u001b[0m\u001b[0;34m\u001b[0m\u001b[0m\n\u001b[1;32m    598\u001b[0m           outputs = execute.execute_with_cancellation(\n",
      "\u001b[0;32m/usr/local/lib/python3.6/dist-packages/tensorflow/python/eager/execute.py\u001b[0m in \u001b[0;36mquick_execute\u001b[0;34m(op_name, num_outputs, inputs, attrs, ctx, name)\u001b[0m\n\u001b[1;32m     58\u001b[0m     \u001b[0mctx\u001b[0m\u001b[0;34m.\u001b[0m\u001b[0mensure_initialized\u001b[0m\u001b[0;34m(\u001b[0m\u001b[0;34m)\u001b[0m\u001b[0;34m\u001b[0m\u001b[0;34m\u001b[0m\u001b[0m\n\u001b[1;32m     59\u001b[0m     tensors = pywrap_tfe.TFE_Py_Execute(ctx._handle, device_name, op_name,\n\u001b[0;32m---> 60\u001b[0;31m                                         inputs, attrs, num_outputs)\n\u001b[0m\u001b[1;32m     61\u001b[0m   \u001b[0;32mexcept\u001b[0m \u001b[0mcore\u001b[0m\u001b[0;34m.\u001b[0m\u001b[0m_NotOkStatusException\u001b[0m \u001b[0;32mas\u001b[0m \u001b[0me\u001b[0m\u001b[0;34m:\u001b[0m\u001b[0;34m\u001b[0m\u001b[0;34m\u001b[0m\u001b[0m\n\u001b[1;32m     62\u001b[0m     \u001b[0;32mif\u001b[0m \u001b[0mname\u001b[0m \u001b[0;32mis\u001b[0m \u001b[0;32mnot\u001b[0m \u001b[0;32mNone\u001b[0m\u001b[0;34m:\u001b[0m\u001b[0;34m\u001b[0m\u001b[0;34m\u001b[0m\u001b[0m\n",
      "\u001b[0;31mKeyboardInterrupt\u001b[0m: "
     ]
    }
   ],
   "source": [
    "history = model.fit(train_dataset, epochs=50, validation_data=validate_dataset, callbacks=[callback, tensorboard_callback,\n",
    "                                                                                          model_checkpoint_callback])\n"
   ]
  },
  {
   "cell_type": "code",
   "execution_count": null,
   "id": "2c99f88d",
   "metadata": {},
   "outputs": [],
   "source": [
    "\n",
    "    "
   ]
  },
  {
   "cell_type": "code",
   "execution_count": null,
   "metadata": {},
   "outputs": [],
   "source": [
    "%tensorboard --logdir=logs"
   ]
  },
  {
   "cell_type": "code",
   "execution_count": null,
   "id": "db23e521",
   "metadata": {},
   "outputs": [],
   "source": [
    "\n",
    "\n",
    "\n",
    "\n",
    "def scheduler(epoch, lr):\n",
    "    if epoch < 3:\n",
    "        return lr\n",
    "    else:\n",
    "        return lr * tf.math.exp(-0.1)\n",
    "\n",
    "def abs_dist(y_true, y_pred):\n",
    "    abs_difference = tf.math.abs(y_true[0] - y_pred[0])\n",
    "    return tf.reduce_mean(abs_difference, axis=-1)\n",
    "\n",
    "optimizer = tf.keras.optimizers.Adam(0.002)\n",
    "model.compile(loss=\"mse\", optimizer=optimizer, metrics=[abs_dist, tf.keras.metrics.RootMeanSquaredError()])\n",
    "callback = tf.keras.callbacks.LearningRateScheduler(scheduler)\n",
    "\n",
    "history = model.fit(dataset, epochs=10, callbacks=[callback])\n"
   ]
  },
  {
   "cell_type": "code",
   "execution_count": null,
   "id": "0c589237",
   "metadata": {},
   "outputs": [],
   "source": [
    "model = tf.keras.models.Sequential()\n",
    "model.add(tf.keras.layers.InputLayer(input_shape=(None, 1), ragged=True))\n",
    "model.add(tf.keras.layers.Bidirectional(tf.keras.layers.LSTM(50, activation='tanh', return_sequences=True)))\n",
    "model.add(tf.keras.layers.Bidirectional(tf.keras.layers.LSTM(50, activation='tanh')))\n",
    "model.add(tf.keras.layers.Dense(100, activation='relu', kernel_initializer=tf.keras.initializers.HeNormal()))\n",
    "model.add(tf.keras.layers.Dense(2, activation='linear'))\n",
    "model.summary()\n",
    "def scheduler(epoch, lr):\n",
    "    if epoch < 3:\n",
    "        return lr\n",
    "    else:\n",
    "        return lr * tf.math.exp(-0.1)\n",
    "\n",
    "def abs_dist(y_true, y_pred):\n",
    "    abs_difference = tf.math.abs(y_true - y_pred)\n",
    "    return tf.reduce_mean(abs_difference, axis=-1)\n",
    "\n",
    "optimizer = tf.keras.optimizers.Adam(0.0015)\n",
    "model.compile(loss=\"mse\", optimizer=optimizer, metrics=[abs_dist, tf.keras.metrics.RootMeanSquaredError()])\n",
    "callback = tf.keras.callbacks.LearningRateScheduler(scheduler)\n",
    "\n",
    "history = model.fit(dataset, epochs=20, callbacks=[callback])\n"
   ]
  }
 ],
 "metadata": {
  "kernelspec": {
   "display_name": "Python 3",
   "language": "python",
   "name": "python3"
  },
  "language_info": {
   "codemirror_mode": {
    "name": "ipython",
    "version": 3
   },
   "file_extension": ".py",
   "mimetype": "text/x-python",
   "name": "python",
   "nbconvert_exporter": "python",
   "pygments_lexer": "ipython3",
   "version": "3.6.9"
  }
 },
 "nbformat": 4,
 "nbformat_minor": 5
}
