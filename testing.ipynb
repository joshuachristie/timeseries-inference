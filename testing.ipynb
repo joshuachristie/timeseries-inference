{
 "cells": [
  {
   "cell_type": "code",
   "execution_count": 1,
   "id": "2ae29e67",
   "metadata": {},
   "outputs": [],
   "source": [
    "import tensorflow as tf\n",
    "import os"
   ]
  },
  {
   "cell_type": "code",
   "execution_count": 2,
   "id": "f081a19d",
   "metadata": {},
   "outputs": [],
   "source": [
    "\"\"\"\n",
    "directory = \"data\"\n",
    "filenames = [f for f in os.listdir(directory) if f.endswith(\".tfrecord\")]\n",
    "os.chdir(directory)\n",
    "raw_dataset = tf.data.TFRecordDataset(filenames)\n",
    "for raw_record in raw_dataset.take(5):\n",
    "    example = tf.train.SequenceExample.FromString(raw_record.numpy())\n",
    "    print(example.context.feature['population_size'])\n",
    "    print(example.context.feature['selection_coefficient'])\n",
    "\n",
    "    #example = tf.train.SequenceExample()\n",
    "    #example.ParseFromString(raw_record.numpy())\n",
    "    #print(example.context.feature['population_size'])\n",
    "    #print(example.feature_lists.feature_list['raw_trait_frequencies'].feature[0])\n",
    "\n",
    "os.chdir(\"/home/joshua/projects/timeseries-inference/\")\n",
    "len(filenames)\n",
    "\"\"\";"
   ]
  },
  {
   "cell_type": "code",
   "execution_count": 3,
   "id": "9e4705f3",
   "metadata": {},
   "outputs": [
    {
     "name": "stdout",
     "output_type": "stream",
     "text": [
      "int64_list {\n",
      "  value: 480\n",
      "}\n",
      "\n",
      "int64_list {\n",
      "  value: 480\n",
      "}\n",
      "\n"
     ]
    }
   ],
   "source": [
    "filepath_dataset = tf.data.TFRecordDataset.list_files(\"data/*.tfrecord\", shuffle=True)\n",
    "dataset = filepath_dataset.interleave(\n",
    "    lambda x: tf.data.TFRecordDataset(x),\n",
    "    cycle_length=3,\n",
    "    block_length=2,\n",
    "    num_parallel_calls=tf.data.experimental.AUTOTUNE,\n",
    "    deterministic=False)\n",
    "\n",
    "shuffle_size = 100\n",
    "batch_size=8\n",
    "\n",
    "dataset = dataset.shuffle(shuffle_size).prefetch(tf.data.experimental.AUTOTUNE)\n",
    "\n",
    "#dataset = dataset.batch(batch_size).prefetch(tf.data.experimental.AUTOTUNE)\n",
    "\n",
    "for record in dataset.take(1):\n",
    "    example = tf.train.SequenceExample.FromString(record.numpy())\n",
    "    for i in range(2):\n",
    "        #print(repr(example.feature_lists.feature_list['raw_trait_frequencies'].feature[i]))\n",
    "        print(repr(example.context.feature['population_size']))"
   ]
  },
  {
   "cell_type": "code",
   "execution_count": 6,
   "id": "ac89231b",
   "metadata": {
    "tags": []
   },
   "outputs": [],
   "source": [
    "filepath_dataset = tf.data.TFRecordDataset.list_files(\"data/*.tfrecord\", shuffle=True)\n",
    "dataset = filepath_dataset.interleave(\n",
    "    lambda x: tf.data.TFRecordDataset(x),\n",
    "    cycle_length=1,\n",
    "    block_length=1,\n",
    "    num_parallel_calls=tf.data.experimental.AUTOTUNE,\n",
    "    deterministic=False)\n",
    "\n",
    "context_features = {\"population_size\" : tf.io.FixedLenFeature((), tf.int64),\n",
    "                   \"selection_coefficient\" : tf.io.FixedLenFeature((), tf.float32)}\n",
    "sequence_features = {\"raw_trait_frequencies\" : tf.io.RaggedFeature(tf.float32)}\n",
    "dataset = dataset.prefetch(tf.data.experimental.AUTOTUNE).repeat(10)\n",
    "#dataset = dataset.batch(2).prefetch(tf.data.experimental.AUTOTUNE)\n",
    "\n",
    "sample_size = 1 # need to figure out how to increase this and keep keras happy\n",
    "#for record in dataset.batch(30):\n",
    "    #example = tf.io.parse_sequence_example(record, context_features=context_features, sequence_features=sequence_features)\n",
    "    #print(example[0]['population_size'])\n",
    "\n",
    "pop_size_min = 20\n",
    "pop_size_max = 500\n",
    "sc_min = -0.1\n",
    "sc_max = 1.\n",
    "\n",
    "def preprocess(record):\n",
    "    example = tf.io.parse_sequence_example(record, context_features=context_features, sequence_features=sequence_features)\n",
    "    features = tf.gather(example[1][\"raw_trait_frequencies\"], tf.random.uniform([sample_size], 0, 10, dtype=tf.int32))\n",
    "    # scale population size and selection coefficient between 0 and 1 (both are uniformly distributed)\n",
    "    pop_size_norm = (tf.cast(example[0][\"population_size\"], dtype=tf.float32) - pop_size_min) / (pop_size_max - pop_size_min)\n",
    "    sc_norm = (tf.cast(example[0][\"selection_coefficient\"], dtype=tf.float32) - sc_min) / (sc_max - sc_min)\n",
    "    labels = [pop_size_norm, sc_norm]\n",
    "    #labels = [ tf.cast(example[0][\"population_size\"], dtype=tf.float32), example[0][\"selection_coefficient\"] ]\n",
    "    return features, labels\n",
    "\n",
    "\"\"\"\n",
    "def test(dataset, sample_size):\n",
    "    for record in dataset:\n",
    "        example = tf.io.parse_sequence_example(record, context_features=context_features, sequence_features=sequence_features)\n",
    "        features = tf.gather(example[1][\"raw_trait_frequencies\"], tf.random.uniform([sample_size], 0, 10, dtype=tf.int32))\n",
    "        labels = [ tf.cast(example[0][\"population_size\"], dtype=tf.float32), example[0][\"selection_coefficient\"] ]\n",
    "    return features, labels\n",
    "\"\"\"\n",
    "\"\"\"\n",
    "        for i in range(1):\n",
    "        #print(repr(example.feature_lists.feature_list['raw_trait_frequencies'].feature[i]))\n",
    "        #print(repr(example.context.feature['population_size']))\n",
    "        print(repr(example[0]))\n",
    "        rn = tf.random.uniform([3], 0, 10, dtype=tf.int32)\n",
    "        print(rn)\n",
    "        print(repr(tf.gather(example[1][\"raw_trait_frequencies\"], rn)))\n",
    "        \n",
    "        #print(example[0][\"selection_coefficient\"])\n",
    "\n",
    "        #print(example[1][\"raw_trait_frequencies\"].values)\n",
    "        #print(dir(example[1][\"raw_trait_frequencies\"]))\n",
    "        #print(example[1][\"raw_trait_frequencies\"].indices)\n",
    "        #print(repr(example[1][\"raw_trait_frequencies\"][0]))\n",
    "        \n",
    "        print(repr(example[1][\"raw_trait_frequencies\"][rn[0]]))\n",
    "        print(repr(example[1][\"raw_trait_frequencies\"][rn[1]]))\n",
    "        print(repr(example[1][\"raw_trait_frequencies\"][rn[2]]))\n",
    "\n",
    "        #print(example[1][\"raw_trait_frequencies\"][0][0])\n",
    "\n",
    "        #print(example[1][\"raw_trait_frequencies\"][0][1])\n",
    "        \n",
    "        #print(example[1][\"raw_trait_frequencies\"][1][0])\n",
    "        #print(example[1][\"raw_trait_frequencies\"][1][1])\n",
    "\n",
    "        #for j in example[1]:\n",
    "       #     print(j)\n",
    "\"\"\";"
   ]
  },
  {
   "cell_type": "code",
   "execution_count": 7,
   "id": "b72f79ba",
   "metadata": {},
   "outputs": [],
   "source": [
    "dataset = dataset.map(preprocess)\n",
    "dataset = dataset.batch(10)\n"
   ]
  },
  {
   "cell_type": "code",
   "execution_count": 8,
   "id": "19fe6ec7",
   "metadata": {},
   "outputs": [],
   "source": [
    "from tensorflow import keras\n",
    "model = keras.models.Sequential()\n",
    "model.add(keras.layers.Input(shape=(None, 1), ragged=True))\n",
    "model.add(keras.layers.LSTM(50, activation='tanh'))\n",
    "model.add(keras.layers.Dense(2, activation='linear'))"
   ]
  },
  {
   "cell_type": "code",
   "execution_count": 9,
   "id": "3aedc0b7",
   "metadata": {},
   "outputs": [],
   "source": [
    "def scheduler(epoch, lr):\n",
    "    if epoch < 3:\n",
    "        return lr\n",
    "    else:\n",
    "        return lr * tf.math.exp(-0.1)\n",
    "\n",
    "def abs_dist(y_true, y_pred):\n",
    "    abs_difference = tf.math.abs(y_true[0] - y_pred[0])\n",
    "    return tf.reduce_mean(abs_difference, axis=-1)\n",
    "\n",
    "optimizer = tf.keras.optimizers.Adam(0.002)\n",
    "model.compile(loss=\"mse\", optimizer=optimizer, metrics=[abs_dist])\n",
    "callback = tf.keras.callbacks.LearningRateScheduler(scheduler)"
   ]
  },
  {
   "cell_type": "code",
   "execution_count": 11,
   "id": "c44cc935",
   "metadata": {},
   "outputs": [
    {
     "name": "stdout",
     "output_type": "stream",
     "text": [
      "Epoch 1/25\n",
      "30/30 [==============================] - 0s 4ms/step - loss: 0.0520 - abs_dist: 0.1944 - lr: 1.2257e-07\n",
      "Epoch 2/25\n",
      "30/30 [==============================] - 0s 4ms/step - loss: 0.0520 - abs_dist: 0.1934 - lr: 1.2257e-07\n",
      "Epoch 3/25\n",
      "30/30 [==============================] - 0s 4ms/step - loss: 0.0520 - abs_dist: 0.1642 - lr: 1.2257e-07\n",
      "Epoch 4/25\n",
      "30/30 [==============================] - 0s 4ms/step - loss: 0.0520 - abs_dist: 0.1901 - lr: 1.1090e-07\n",
      "Epoch 5/25\n",
      "30/30 [==============================] - 0s 4ms/step - loss: 0.0520 - abs_dist: 0.1716 - lr: 1.0035e-07\n",
      "Epoch 6/25\n",
      "30/30 [==============================] - 0s 4ms/step - loss: 0.0520 - abs_dist: 0.1782 - lr: 9.0799e-08\n",
      "Epoch 7/25\n",
      "30/30 [==============================] - 0s 4ms/step - loss: 0.0520 - abs_dist: 0.2036 - lr: 8.2159e-08\n",
      "Epoch 8/25\n",
      "30/30 [==============================] - 0s 4ms/step - loss: 0.0519 - abs_dist: 0.1917 - lr: 7.4340e-08\n",
      "Epoch 9/25\n",
      "30/30 [==============================] - 0s 4ms/step - loss: 0.0520 - abs_dist: 0.1820 - lr: 6.7266e-08\n",
      "Epoch 10/25\n",
      "30/30 [==============================] - 0s 4ms/step - loss: 0.0520 - abs_dist: 0.1764 - lr: 6.0865e-08\n",
      "Epoch 11/25\n",
      "30/30 [==============================] - 0s 4ms/step - loss: 0.0520 - abs_dist: 0.1726 - lr: 5.5073e-08\n",
      "Epoch 12/25\n",
      "30/30 [==============================] - 0s 4ms/step - loss: 0.0520 - abs_dist: 0.1915 - lr: 4.9832e-08\n",
      "Epoch 13/25\n",
      "30/30 [==============================] - 0s 4ms/step - loss: 0.0520 - abs_dist: 0.1774 - lr: 4.5090e-08\n",
      "Epoch 14/25\n",
      "30/30 [==============================] - 0s 4ms/step - loss: 0.0520 - abs_dist: 0.1913 - lr: 4.0799e-08\n",
      "Epoch 15/25\n",
      "30/30 [==============================] - 0s 4ms/step - loss: 0.0520 - abs_dist: 0.1755 - lr: 3.6916e-08\n",
      "Epoch 16/25\n",
      "30/30 [==============================] - 0s 4ms/step - loss: 0.0520 - abs_dist: 0.1854 - lr: 3.3403e-08\n",
      "Epoch 17/25\n",
      "30/30 [==============================] - 0s 4ms/step - loss: 0.0520 - abs_dist: 0.1625 - lr: 3.0224e-08\n",
      "Epoch 18/25\n",
      "30/30 [==============================] - 0s 4ms/step - loss: 0.0520 - abs_dist: 0.1851 - lr: 2.7348e-08\n",
      "Epoch 19/25\n",
      "30/30 [==============================] - 0s 4ms/step - loss: 0.0520 - abs_dist: 0.1781 - lr: 2.4746e-08\n",
      "Epoch 20/25\n",
      "30/30 [==============================] - 0s 4ms/step - loss: 0.0520 - abs_dist: 0.1844 - lr: 2.2391e-08\n",
      "Epoch 21/25\n",
      "30/30 [==============================] - 0s 4ms/step - loss: 0.0520 - abs_dist: 0.1755 - lr: 2.0260e-08\n",
      "Epoch 22/25\n",
      "30/30 [==============================] - 0s 4ms/step - loss: 0.0519 - abs_dist: 0.1954 - lr: 1.8332e-08\n",
      "Epoch 23/25\n",
      "30/30 [==============================] - 0s 4ms/step - loss: 0.0520 - abs_dist: 0.1800 - lr: 1.6588e-08\n",
      "Epoch 24/25\n",
      "30/30 [==============================] - 0s 4ms/step - loss: 0.0520 - abs_dist: 0.2065 - lr: 1.5009e-08\n",
      "Epoch 25/25\n",
      "30/30 [==============================] - 0s 4ms/step - loss: 0.0520 - abs_dist: 0.1722 - lr: 1.3581e-08\n"
     ]
    }
   ],
   "source": [
    "history = model.fit(dataset, epochs=25, callbacks=[callback])"
   ]
  },
  {
   "cell_type": "code",
   "execution_count": 47,
   "id": "583f0a36",
   "metadata": {},
   "outputs": [
    {
     "ename": "NameError",
     "evalue": "name 'test' is not defined",
     "output_type": "error",
     "traceback": [
      "\u001b[0;31m---------------------------------------------------------------------------\u001b[0m",
      "\u001b[0;31mNameError\u001b[0m                                 Traceback (most recent call last)",
      "\u001b[0;32m<ipython-input-47-f19b02daaea8>\u001b[0m in \u001b[0;36m<module>\u001b[0;34m\u001b[0m\n\u001b[1;32m      2\u001b[0m \u001b[0;31m#print(features)\u001b[0m\u001b[0;34m\u001b[0m\u001b[0;34m\u001b[0m\u001b[0;34m\u001b[0m\u001b[0m\n\u001b[1;32m      3\u001b[0m \u001b[0;31m#print(labels)\u001b[0m\u001b[0;34m\u001b[0m\u001b[0;34m\u001b[0m\u001b[0;34m\u001b[0m\u001b[0m\n\u001b[0;32m----> 4\u001b[0;31m \u001b[0mdataset1\u001b[0m \u001b[0;34m=\u001b[0m \u001b[0mdataset\u001b[0m\u001b[0;34m.\u001b[0m\u001b[0mmap\u001b[0m\u001b[0;34m(\u001b[0m\u001b[0mtest\u001b[0m\u001b[0;34m)\u001b[0m\u001b[0;34m\u001b[0m\u001b[0;34m\u001b[0m\u001b[0m\n\u001b[0m\u001b[1;32m      5\u001b[0m \u001b[0;32mfor\u001b[0m \u001b[0mrecord\u001b[0m \u001b[0;32min\u001b[0m \u001b[0mdataset1\u001b[0m\u001b[0;34m.\u001b[0m\u001b[0mtake\u001b[0m\u001b[0;34m(\u001b[0m\u001b[0;36m1\u001b[0m\u001b[0;34m)\u001b[0m\u001b[0;34m:\u001b[0m\u001b[0;34m\u001b[0m\u001b[0;34m\u001b[0m\u001b[0m\n\u001b[1;32m      6\u001b[0m     \u001b[0mprint\u001b[0m\u001b[0;34m(\u001b[0m\u001b[0mtf\u001b[0m\u001b[0;34m.\u001b[0m\u001b[0msize\u001b[0m\u001b[0;34m(\u001b[0m\u001b[0mrecord\u001b[0m\u001b[0;34m[\u001b[0m\u001b[0;36m0\u001b[0m\u001b[0;34m]\u001b[0m\u001b[0;34m)\u001b[0m\u001b[0;34m)\u001b[0m\u001b[0;34m\u001b[0m\u001b[0;34m\u001b[0m\u001b[0m\n",
      "\u001b[0;31mNameError\u001b[0m: name 'test' is not defined"
     ]
    }
   ],
   "source": [
    "#dataset1 = test(dataset, 3)\n",
    "#print(features)\n",
    "#print(labels)\n",
    "dataset1 = dataset.map(test)\n",
    "for record in dataset1.take(1):\n",
    "    print(tf.size(record[0]))"
   ]
  },
  {
   "cell_type": "code",
   "execution_count": null,
   "id": "9275ef51",
   "metadata": {},
   "outputs": [],
   "source": []
  },
  {
   "cell_type": "code",
   "execution_count": null,
   "id": "5de42b4a",
   "metadata": {},
   "outputs": [],
   "source": [
    "def test(dataset, sample_size):\n",
    "    for record in dataset.batch(3):\n",
    "        example = tf.io.parse_sequence_example(record, context_features=context_features, sequence_features=sequence_features)\n",
    "        features = tf.gather(example[1][\"raw_trait_frequencies\"], tf.random.uniform([sample_size], 0, 10, dtype=tf.int32))\n",
    "        labels = [ tf.cast(example[0][\"population_size\"], dtype=tf.float32), example[0][\"selection_coefficient\"] ]\n",
    "    return features, labels\n"
   ]
  },
  {
   "cell_type": "code",
   "execution_count": 34,
   "id": "aeffb3be",
   "metadata": {},
   "outputs": [],
   "source": [
    "os.chdir(\"/home/joshua/projects/timeseries-inference/\")\n"
   ]
  },
  {
   "cell_type": "code",
   "execution_count": null,
   "id": "bca83723",
   "metadata": {},
   "outputs": [],
   "source": []
  }
 ],
 "metadata": {
  "kernelspec": {
   "display_name": "Python 3.8 (tf)",
   "language": "python",
   "name": "tf"
  },
  "language_info": {
   "codemirror_mode": {
    "name": "ipython",
    "version": 3
   },
   "file_extension": ".py",
   "mimetype": "text/x-python",
   "name": "python",
   "nbconvert_exporter": "python",
   "pygments_lexer": "ipython3",
   "version": "3.8.5"
  }
 },
 "nbformat": 4,
 "nbformat_minor": 5
}
